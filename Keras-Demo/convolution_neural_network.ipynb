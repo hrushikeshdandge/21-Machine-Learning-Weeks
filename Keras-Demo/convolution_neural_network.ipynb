{
  "nbformat": 4,
  "nbformat_minor": 0,
  "metadata": {
    "colab": {
      "name": "cnn.ipynb",
      "version": "0.3.2",
      "provenance": []
    },
    "kernelspec": {
      "name": "python3",
      "display_name": "Python 3"
    }
  },
  "cells": [
    {
      "cell_type": "markdown",
      "metadata": {
        "id": "view-in-github",
        "colab_type": "text"
      },
      "source": [
        "[View in Colaboratory](https://colab.research.google.com/github/saitejdandge/21-Machine-Learning-Weeks/blob/master/Keras-Demo/convolution_neural_network.ipynb)"
      ]
    },
    {
      "metadata": {
        "id": "t9c4WZf1tbYZ",
        "colab_type": "code",
        "colab": {
          "base_uri": "https://localhost:8080/",
          "height": 826
        },
        "outputId": "4b324ea3-1ee6-46ca-8c27-f4aee8b18a14"
      },
      "cell_type": "code",
      "source": [
        "from __future__ import print_function\n",
        "import keras\n",
        "from keras.datasets import mnist\n",
        "from keras.layers import Dense, Flatten\n",
        "from keras.layers import Conv2D, MaxPooling2D\n",
        "from keras.models import Sequential\n",
        "import matplotlib.pylab as plt\n",
        "\n",
        "batch_size = 128\n",
        "num_classes = 10\n",
        "epochs = 10\n",
        "\n",
        "# input image dimensions\n",
        "img_x, img_y = 28, 28\n",
        "\n",
        "# load the MNIST data set, which already splits into train and test sets for us\n",
        "(x_train, y_train), (x_test, y_test) = mnist.load_data()\n",
        "\n",
        "# reshape the data into a 4D tensor - (sample_number, x_img_size, y_img_size, num_channels)\n",
        "# because the MNIST is greyscale, we only have a single channel - RGB colour images would have 3\n",
        "x_train = x_train.reshape(x_train.shape[0], img_x, img_y, 1)\n",
        "x_test = x_test.reshape(x_test.shape[0], img_x, img_y, 1)\n",
        "input_shape = (img_x, img_y, 1)\n",
        "\n",
        "# convert the data to the right type\n",
        "x_train = x_train.astype('float32')\n",
        "x_test = x_test.astype('float32')\n",
        "x_train /= 255\n",
        "x_test /= 255\n",
        "print('x_train shape:', x_train.shape)\n",
        "print(x_train.shape[0], 'train samples')\n",
        "print(x_test.shape[0], 'test samples')\n",
        "\n",
        "# convert class vectors to binary class matrices - this is for use in the\n",
        "# categorical_crossentropy loss below\n",
        "y_train = keras.utils.to_categorical(y_train, num_classes)\n",
        "y_test = keras.utils.to_categorical(y_test, num_classes)\n",
        "\n",
        "model = Sequential()\n",
        "model.add(Conv2D(32, kernel_size=(5, 5), strides=(1, 1),\n",
        "                 activation='relu',\n",
        "                 input_shape=input_shape))\n",
        "model.add(MaxPooling2D(pool_size=(2, 2), strides=(2, 2)))\n",
        "model.add(Conv2D(64, (5, 5), activation='relu'))\n",
        "model.add(MaxPooling2D(pool_size=(2, 2)))\n",
        "model.add(Flatten())\n",
        "model.add(Dense(1000, activation='relu'))\n",
        "model.add(Dense(num_classes, activation='softmax'))\n",
        "\n",
        "model.compile(loss=keras.losses.categorical_crossentropy,\n",
        "              optimizer=keras.optimizers.Adam(),\n",
        "              metrics=['accuracy'])\n",
        "\n",
        "\n",
        "class AccuracyHistory(keras.callbacks.Callback):\n",
        "    def on_train_begin(self, logs={}):\n",
        "        self.acc = []\n",
        "\n",
        "    def on_epoch_end(self, batch, logs={}):\n",
        "        self.acc.append(logs.get('acc'))\n",
        "\n",
        "history = AccuracyHistory()\n",
        "\n",
        "model.fit(x_train, y_train,\n",
        "          batch_size=batch_size,\n",
        "          epochs=epochs,\n",
        "          verbose=1,\n",
        "          validation_data=(x_test, y_test),\n",
        "          callbacks=[history])\n",
        "score = model.evaluate(x_test, y_test, verbose=0)\n",
        "print('Test loss:', score[0])\n",
        "print('Test accuracy:', score[1])\n",
        "plt.plot(range(1, 11), history.acc)\n",
        "plt.xlabel('Epochs')\n",
        "plt.ylabel('Accuracy')\n",
        "plt.show()"
      ],
      "execution_count": 2,
      "outputs": [
        {
          "output_type": "stream",
          "text": [
            "x_train shape: (60000, 28, 28, 1)\n",
            "60000 train samples\n",
            "10000 test samples\n",
            "Train on 60000 samples, validate on 10000 samples\n",
            "Epoch 1/10\n",
            "58496/60000 [============================>.] - ETA: 2s - loss: 0.1539 - acc: 0.9532"
          ],
          "name": "stdout"
        },
        {
          "output_type": "stream",
          "text": [
            "60000/60000 [==============================] - 86s 1ms/step - loss: 0.1513 - acc: 0.9540 - val_loss: 0.0412 - val_acc: 0.9863\n",
            "Epoch 2/10\n",
            "57216/60000 [===========================>..] - ETA: 3s - loss: 0.0411 - acc: 0.9874"
          ],
          "name": "stdout"
        },
        {
          "output_type": "stream",
          "text": [
            "60000/60000 [==============================] - 85s 1ms/step - loss: 0.0413 - acc: 0.9873 - val_loss: 0.0480 - val_acc: 0.9850\n",
            "Epoch 3/10\n",
            "56704/60000 [===========================>..] - ETA: 4s - loss: 0.0274 - acc: 0.9918"
          ],
          "name": "stdout"
        },
        {
          "output_type": "stream",
          "text": [
            "60000/60000 [==============================] - 85s 1ms/step - loss: 0.0279 - acc: 0.9917 - val_loss: 0.0329 - val_acc: 0.9890\n",
            "Epoch 4/10\n",
            "56448/60000 [===========================>..] - ETA: 4s - loss: 0.0185 - acc: 0.9940"
          ],
          "name": "stdout"
        },
        {
          "output_type": "stream",
          "text": [
            "60000/60000 [==============================] - 84s 1ms/step - loss: 0.0182 - acc: 0.9941 - val_loss: 0.0263 - val_acc: 0.9930\n",
            "Epoch 5/10\n",
            "56320/60000 [===========================>..] - ETA: 4s - loss: 0.0144 - acc: 0.9954"
          ],
          "name": "stdout"
        },
        {
          "output_type": "stream",
          "text": [
            "60000/60000 [==============================] - 84s 1ms/step - loss: 0.0145 - acc: 0.9953 - val_loss: 0.0275 - val_acc: 0.9919\n",
            "Epoch 6/10\n",
            "56320/60000 [===========================>..] - ETA: 4s - loss: 0.0124 - acc: 0.9961"
          ],
          "name": "stdout"
        },
        {
          "output_type": "stream",
          "text": [
            "60000/60000 [==============================] - 85s 1ms/step - loss: 0.0124 - acc: 0.9960 - val_loss: 0.0274 - val_acc: 0.9919\n",
            "Epoch 7/10\n",
            "56320/60000 [===========================>..] - ETA: 4s - loss: 0.0096 - acc: 0.9971"
          ],
          "name": "stdout"
        },
        {
          "output_type": "stream",
          "text": [
            "60000/60000 [==============================] - 85s 1ms/step - loss: 0.0097 - acc: 0.9970 - val_loss: 0.0269 - val_acc: 0.9925\n",
            "Epoch 8/10\n",
            "56320/60000 [===========================>..] - ETA: 4s - loss: 0.0092 - acc: 0.9969"
          ],
          "name": "stdout"
        },
        {
          "output_type": "stream",
          "text": [
            "60000/60000 [==============================] - 83s 1ms/step - loss: 0.0093 - acc: 0.9968 - val_loss: 0.0325 - val_acc: 0.9922\n",
            "Epoch 9/10\n",
            "56320/60000 [===========================>..] - ETA: 4s - loss: 0.0067 - acc: 0.9980"
          ],
          "name": "stdout"
        },
        {
          "output_type": "stream",
          "text": [
            "60000/60000 [==============================] - 83s 1ms/step - loss: 0.0071 - acc: 0.9979 - val_loss: 0.0316 - val_acc: 0.9917\n",
            "Epoch 10/10\n",
            "56064/60000 [===========================>..] - ETA: 5s - loss: 0.0064 - acc: 0.9981"
          ],
          "name": "stdout"
        },
        {
          "output_type": "stream",
          "text": [
            "60000/60000 [==============================] - 84s 1ms/step - loss: 0.0065 - acc: 0.9980 - val_loss: 0.0331 - val_acc: 0.9924\n",
            "Test loss: 0.03314812394968931\n",
            "Test accuracy: 0.9924\n"
          ],
          "name": "stdout"
        },
        {
          "output_type": "display_data",
          "data": {
            "image/png": "[encoded data removed]",
            "text/plain": [
              "<matplotlib.figure.Figure at 0x7fdf8ba1de10>"
            ]
          },
          "metadata": {
            "tags": []
          }
        }
      ]
    }
  ]
}