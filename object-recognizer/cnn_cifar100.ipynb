{
  "nbformat": 4,
  "nbformat_minor": 0,
  "metadata": {
    "colab": {
      "name": "cnn_cifar100.ipynb",
      "version": "0.3.2",
      "provenance": []
    },
    "kernelspec": {
      "name": "python3",
      "display_name": "Python 3"
    },
    "accelerator": "GPU"
  },
  "cells": [
    {
      "cell_type": "markdown",
      "metadata": {
        "id": "view-in-github",
        "colab_type": "text"
      },
      "source": [
        "[View in Colaboratory](https://colab.research.google.com/github/saitejdandge/21-Machine-Learning-Weeks/blob/master/ImageClassification/cnn_cifar100.ipynb)"
      ]
    },
    {
      "metadata": {
        "id": "9B5Vy5xhIDTw",
        "colab_type": "code",
        "colab": {
          "base_uri": "https://localhost:8080/",
          "height": 1504
        },
        "outputId": "39115266-bb21-4353-9bba-6f8e4056a043"
      },
      "cell_type": "code",
      "source": [
        "import keras\n",
        "import matplotlib.pyplot as plt\n",
        "\n",
        "from keras.datasets import mnist\n",
        "from keras.layers import Dense,Flatten, Conv2D,MaxPooling2D\n",
        "from keras.models import Sequential\n",
        "\n",
        "\n",
        "#importing dataset\n",
        "\n",
        "from keras.datasets import cifar100\n",
        "\n",
        "(x_train, y_train), (x_test, y_test) = cifar100.load_data()\n",
        "\n",
        "print(x_train.shape)\n",
        "\n",
        "\n",
        "\n",
        "\n",
        "batch_size = 128\n",
        "epochs = 30\n",
        "\n",
        "#preprocessing dataset\n",
        "from keras.utils import to_categorical\n",
        "\n",
        "#one hot encoding output\n",
        "y_train=to_categorical(y_train)\n",
        "y_test=to_categorical(y_test)\n",
        "\n",
        "#adding channel dimension to image\n",
        "\n",
        "x_train=x_train.astype('float32')\n",
        "x_test=x_test.astype('float32')\n",
        "x_train/=255\n",
        "x_test/=255\n",
        "\n",
        "\n",
        "num_samples=x_train.shape[0]\n",
        "num_classes=y_train.shape[1]\n",
        "\n",
        "\n",
        "\n",
        "\n",
        "print(x_train.shape)\n",
        "print(y_train.shape)\n",
        "input_shape=(x_train.shape[1],x_train.shape[2],x_train.shape[3])\n",
        "\n",
        "#building model\n",
        "\n",
        "model = Sequential()\n",
        "model.add(Conv2D(32, kernel_size=(5, 5), strides=(1, 1),activation='relu',input_shape=input_shape))\n",
        "model.add(MaxPooling2D(pool_size=(2, 2), strides=(2, 2)))\n",
        "model.add(Conv2D(64, (5, 5), activation='relu'))\n",
        "model.add(MaxPooling2D(pool_size=(2, 2)))\n",
        "model.add(Flatten())\n",
        "model.add(Dense(1000, activation='relu'))\n",
        "model.add(Dense(num_classes, activation='softmax'))\n",
        "\n",
        "model.compile(loss=keras.losses.categorical_crossentropy,\n",
        "              optimizer=keras.optimizers.Adam(),\n",
        "              metrics=['accuracy'])\n",
        "\n",
        "\n",
        "class AccuracyHistory(keras.callbacks.Callback):\n",
        "    def on_train_begin(self, logs={}):\n",
        "        self.acc = []\n",
        "\n",
        "    def on_epoch_end(self, batch, logs={}):\n",
        "        self.acc.append(logs.get('acc'))\n",
        "\n",
        "history = AccuracyHistory()\n",
        "\n",
        "model.fit(x_train, y_train,\n",
        "          batch_size=batch_size,\n",
        "          epochs=epochs,\n",
        "          verbose=1,\n",
        "          validation_data=(x_test, y_test),\n",
        "          callbacks=[history])\n",
        "score = model.evaluate(x_test, y_test, verbose=0)\n",
        "print('Test loss:', score[0])\n",
        "print('Test accuracy:', score[1])\n",
        "\n",
        "model.save('cifar100.h5')\n",
        "\n",
        "plt.plot(range(1, epochs+1), history.acc)\n",
        "plt.xlabel('Epochs')\n",
        "plt.ylabel('Accuracy')\n",
        "plt.show()\n",
        "\n",
        "\n",
        "\n",
        "\n",
        "\n",
        "\n",
        "\n",
        "\n",
        "\n",
        "\n",
        "\n",
        "\n",
        "\n",
        "\n",
        "\n",
        "\n",
        "\n",
        "\n",
        "\n",
        "\n",
        "\n",
        "\n",
        "\n",
        "\n"
      ],
      "execution_count": 3,
      "outputs": [
        {
          "output_type": "stream",
          "text": [
            "(50000, 32, 32, 3)\n",
            "(50000, 32, 32, 3)\n",
            "(50000, 100)\n",
            "Train on 50000 samples, validate on 10000 samples\n",
            "Epoch 1/30\n",
            "50000/50000 [==============================] - 8s 162us/step - loss: 3.6618 - acc: 0.1517 - val_loss: 3.1462 - val_acc: 0.2433\n",
            "Epoch 2/30\n",
            "50000/50000 [==============================] - 8s 160us/step - loss: 2.8873 - acc: 0.2881 - val_loss: 2.7776 - val_acc: 0.3141\n",
            "Epoch 3/30\n",
            "23936/50000 [=============>................] - ETA: 3s - loss: 2.5272 - acc: 0.3595"
          ],
          "name": "stdout"
        },
        {
          "output_type": "stream",
          "text": [
            "50000/50000 [==============================] - 8s 159us/step - loss: 2.4963 - acc: 0.3659 - val_loss: 2.6024 - val_acc: 0.3523\n",
            "Epoch 4/30\n",
            "50000/50000 [==============================] - 8s 159us/step - loss: 2.1829 - acc: 0.4339 - val_loss: 2.4791 - val_acc: 0.3786\n",
            "Epoch 5/30\n",
            "50000/50000 [==============================] - 8s 158us/step - loss: 1.8905 - acc: 0.4968 - val_loss: 2.4922 - val_acc: 0.3908\n",
            "Epoch 6/30\n",
            "13568/50000 [=======>......................] - ETA: 5s - loss: 1.5498 - acc: 0.5769"
          ],
          "name": "stdout"
        },
        {
          "output_type": "stream",
          "text": [
            "50000/50000 [==============================] - 8s 159us/step - loss: 1.6107 - acc: 0.5624 - val_loss: 2.5228 - val_acc: 0.3979\n",
            "Epoch 7/30\n",
            "50000/50000 [==============================] - 8s 160us/step - loss: 1.3153 - acc: 0.6344 - val_loss: 2.7192 - val_acc: 0.3899\n",
            "Epoch 8/30\n",
            "50000/50000 [==============================] - 8s 159us/step - loss: 1.0322 - acc: 0.7056 - val_loss: 2.9273 - val_acc: 0.3855\n",
            "Epoch 9/30\n",
            "12032/50000 [======>.......................] - ETA: 5s - loss: 0.6739 - acc: 0.8116"
          ],
          "name": "stdout"
        },
        {
          "output_type": "stream",
          "text": [
            "50000/50000 [==============================] - 8s 159us/step - loss: 0.7669 - acc: 0.7791 - val_loss: 3.2328 - val_acc: 0.3895\n",
            "Epoch 10/30\n",
            "50000/50000 [==============================] - 8s 160us/step - loss: 0.5666 - acc: 0.8330 - val_loss: 3.5535 - val_acc: 0.3737\n",
            "Epoch 11/30\n",
            "50000/50000 [==============================] - 8s 159us/step - loss: 0.3872 - acc: 0.8857 - val_loss: 3.9088 - val_acc: 0.3767\n",
            "Epoch 12/30\n",
            "11264/50000 [=====>........................] - ETA: 5s - loss: 0.2405 - acc: 0.9282"
          ],
          "name": "stdout"
        },
        {
          "output_type": "stream",
          "text": [
            "50000/50000 [==============================] - 8s 159us/step - loss: 0.2865 - acc: 0.9134 - val_loss: 4.2329 - val_acc: 0.3700\n",
            "Epoch 13/30\n",
            "50000/50000 [==============================] - 8s 158us/step - loss: 0.2390 - acc: 0.9270 - val_loss: 4.5138 - val_acc: 0.3674\n",
            "Epoch 14/30\n",
            "50000/50000 [==============================] - 8s 160us/step - loss: 0.1990 - acc: 0.9385 - val_loss: 4.7860 - val_acc: 0.3683\n",
            "Epoch 15/30\n",
            "10880/50000 [=====>........................] - ETA: 5s - loss: 0.1309 - acc: 0.9635"
          ],
          "name": "stdout"
        },
        {
          "output_type": "stream",
          "text": [
            "50000/50000 [==============================] - 8s 160us/step - loss: 0.1695 - acc: 0.9479 - val_loss: 4.9317 - val_acc: 0.3617\n",
            "Epoch 16/30\n",
            "50000/50000 [==============================] - 8s 160us/step - loss: 0.1721 - acc: 0.9462 - val_loss: 5.2308 - val_acc: 0.3645\n",
            "Epoch 17/30\n",
            "50000/50000 [==============================] - 8s 160us/step - loss: 0.1535 - acc: 0.9530 - val_loss: 5.2627 - val_acc: 0.3484\n",
            "Epoch 18/30\n",
            "10880/50000 [=====>........................] - ETA: 5s - loss: 0.1208 - acc: 0.9628"
          ],
          "name": "stdout"
        },
        {
          "output_type": "stream",
          "text": [
            "50000/50000 [==============================] - 8s 159us/step - loss: 0.1690 - acc: 0.9464 - val_loss: 5.5409 - val_acc: 0.3573\n",
            "Epoch 19/30\n",
            "50000/50000 [==============================] - 8s 160us/step - loss: 0.1501 - acc: 0.9536 - val_loss: 5.5869 - val_acc: 0.3557\n",
            "Epoch 20/30\n",
            "50000/50000 [==============================] - 8s 159us/step - loss: 0.1207 - acc: 0.9627 - val_loss: 5.8123 - val_acc: 0.3651\n",
            "Epoch 21/30\n",
            "10880/50000 [=====>........................] - ETA: 5s - loss: 0.0875 - acc: 0.9723"
          ],
          "name": "stdout"
        },
        {
          "output_type": "stream",
          "text": [
            "50000/50000 [==============================] - 8s 158us/step - loss: 0.1159 - acc: 0.9636 - val_loss: 5.8739 - val_acc: 0.3607\n",
            "Epoch 22/30\n",
            "50000/50000 [==============================] - 8s 158us/step - loss: 0.1240 - acc: 0.9611 - val_loss: 5.8030 - val_acc: 0.3621\n",
            "Epoch 23/30\n",
            "50000/50000 [==============================] - 8s 159us/step - loss: 0.1218 - acc: 0.9624 - val_loss: 6.0672 - val_acc: 0.3616\n",
            "Epoch 24/30\n",
            "10880/50000 [=====>........................] - ETA: 5s - loss: 0.1002 - acc: 0.9671"
          ],
          "name": "stdout"
        },
        {
          "output_type": "stream",
          "text": [
            "50000/50000 [==============================] - 8s 160us/step - loss: 0.1297 - acc: 0.9589 - val_loss: 6.0530 - val_acc: 0.3580\n",
            "Epoch 25/30\n",
            "50000/50000 [==============================] - 8s 158us/step - loss: 0.1138 - acc: 0.9650 - val_loss: 6.0981 - val_acc: 0.3580\n",
            "Epoch 26/30\n",
            "50000/50000 [==============================] - 8s 158us/step - loss: 0.1083 - acc: 0.9665 - val_loss: 6.2298 - val_acc: 0.3469\n",
            "Epoch 27/30\n",
            "10880/50000 [=====>........................] - ETA: 5s - loss: 0.0915 - acc: 0.9719"
          ],
          "name": "stdout"
        },
        {
          "output_type": "stream",
          "text": [
            "50000/50000 [==============================] - 8s 159us/step - loss: 0.1115 - acc: 0.9657 - val_loss: 6.6137 - val_acc: 0.3550\n",
            "Epoch 28/30\n",
            "50000/50000 [==============================] - 8s 159us/step - loss: 0.1046 - acc: 0.9671 - val_loss: 6.4560 - val_acc: 0.3446\n",
            "Epoch 29/30\n",
            "50000/50000 [==============================] - 8s 159us/step - loss: 0.1047 - acc: 0.9680 - val_loss: 6.5185 - val_acc: 0.3561\n",
            "Epoch 30/30\n",
            "10880/50000 [=====>........................] - ETA: 5s - loss: 0.1006 - acc: 0.9686"
          ],
          "name": "stdout"
        },
        {
          "output_type": "stream",
          "text": [
            "50000/50000 [==============================] - 8s 158us/step - loss: 0.1074 - acc: 0.9669 - val_loss: 6.4948 - val_acc: 0.3545\n",
            "Test loss: 6.494830327606201\n",
            "Test accuracy: 0.3545\n"
          ],
          "name": "stdout"
        },
        {
          "output_type": "display_data",
          "data": {
            "image/png": "[encoded data removed]",
            "text/plain": [
              "<matplotlib.figure.Figure at 0x7fac6e6ea6a0>"
            ]
          },
          "metadata": {
            "tags": []
          }
        }
      ]
    }
  ]
}